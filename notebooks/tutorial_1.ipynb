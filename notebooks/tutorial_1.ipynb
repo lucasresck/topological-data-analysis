{
 "cells": [
  {
   "cell_type": "markdown",
   "metadata": {},
   "source": [
    "# Topological Data Analysis with Persistent Homology, $1^\\text{st}$ tutorial\n",
    "https://raphaeltinarrage.github.io/EMAp.html\n",
    "## Lesson IV: Simplicial complexes and topological invariants\n",
    "Last update: 29/01/2021"
   ]
  },
  {
   "cell_type": "code",
   "execution_count": 1,
   "metadata": {},
   "outputs": [],
   "source": [
    "import gudhi \n",
    "import numpy as np\n",
    "import networkx as nx"
   ]
  },
  {
   "cell_type": "code",
   "execution_count": 2,
   "metadata": {},
   "outputs": [],
   "source": [
    "def PrintSimplices(simpcomplex):\n",
    "    '''\n",
    "    Print a list of the simplices of the simplicial complex 'simpcomplex'.\n",
    "    \n",
    "    Input: \n",
    "        simpcomplex: a gudhi.SimplexTree\n",
    "        \n",
    "    Example:\n",
    "        simpcomplex = gudhi.SimplexTree()\n",
    "        simpcomplex.insert([0])\n",
    "        simpcomplex.insert([1])\n",
    "        PrintSimplices(simpcomplex)\n",
    "    '''\n",
    "    simplices = {i:[] for i in range(simpcomplex.dimension()+1)}\n",
    "    for filtration in simpcomplex.get_simplices():\n",
    "        simplex = filtration[0]\n",
    "        simplices[len(simplex)-1].append(simplex)\n",
    "    print('The simplicial complex contains the following simplices: ')\n",
    "    for i in range(simpcomplex.dimension()+1):\n",
    "        print('Dimension '+repr(i)+': ', end=\"\")\n",
    "        print(*simplices[i], sep = \", \")\n",
    "        \n",
    "def DrawSimplicialComplex(simpcomplex, pos=None):\n",
    "    '''\n",
    "    Draw the 1-skeleton of the simplicial complex 'simpcomplex', in the plane.\n",
    "    If 'pos==None', the position of the vertices are chosen at random, according to the 'spring_layout' of networkx.\n",
    "    If pos is a dict \n",
    "    \n",
    "    Input: \n",
    "        simpcomplex: a gudhi.SimplexTree\n",
    "        pos: a dict {(vertex of simpcomplex): (list of floats of length 2) }\n",
    "        \n",
    "    Example 1:\n",
    "        simpcomplex = gudhi.SimplexTree()\n",
    "        simpcomplex.insert([0])\n",
    "        simpcomplex.insert([1])\n",
    "        DrawSimplicialComplex(simpcomplex)\n",
    "\n",
    "    Example 2:\n",
    "        simpcomplex = gudhi.SimplexTree()\n",
    "        simpcomplex.insert([0])\n",
    "        simpcomplex.insert([1])\n",
    "        pos = {0:[0,0], 1:[0,1]}\n",
    "        DrawSimplicialComplex(simpcomplex, pos=pos)\n",
    "    '''\n",
    "    nodes=[]; edges=[]\n",
    "    for filtr in simpcomplex.get_skeleton(1):\n",
    "        simplex = filtr[0]\n",
    "        if len(simplex)==1:\n",
    "            nodes.append(simplex[0])\n",
    "        if len(simplex)==2:\n",
    "            edges.append(simplex)\n",
    "    G = nx.Graph()\n",
    "    G.add_nodes_from(nodes)\n",
    "    G.add_edges_from(edges)\n",
    "    if pos == None:\n",
    "        pos = nx.spring_layout(G)\n",
    "    nx.draw(G, pos=pos, with_labels=True, font_weight='bold', node_color='magenta')\n",
    "    \n",
    "def NumberOfConnectedComponents(simpcomplex, verbose = 'True'):\n",
    "    '''\n",
    "    Print the number of connected components of the simplicial complex 'simpcomplex'.\n",
    "    \n",
    "    Input: \n",
    "        simpcomplex: a gudhi.SimplexTree\n",
    "        \n",
    "    Example:\n",
    "        simpcomplex = gudhi.SimplexTree()\n",
    "        simpcomplex.insert([0])\n",
    "        simpcomplex.insert([1])\n",
    "        NumberOfConnectedComponents(simpcomplex)\n",
    "    '''    \n",
    "    simpcomplex.compute_persistence()\n",
    "    nbr_components = simpcomplex.betti_numbers()[0]\n",
    "    if verbose: print('The simplicial complex admits '+repr(nbr_components)+' connected component(s).')\n",
    "    return nbr_components\n",
    "\n",
    "def EulerCharacteristic(simpcomplex, verbose = 'True'):\n",
    "    '''\n",
    "    Print the Euler characteristic of the simplicial complex 'simpcomplex'.\n",
    "    \n",
    "    Input: \n",
    "        simpcomplex: a gudhi.SimplexTree\n",
    "        \n",
    "    Example:\n",
    "        simpcomplex = gudhi.SimplexTree()\n",
    "        simpcomplex.insert([0])\n",
    "        simpcomplex.insert([1])\n",
    "        EulerCharacteristic(simpcomplex)\n",
    "    '''\n",
    "    num_simplices = [0 for i in range(simpcomplex.dimension()+1)]\n",
    "    for filtration in simpcomplex.get_simplices():\n",
    "        simplex = filtration[0]\n",
    "        num_simplices[len(simplex)-1]+=1\n",
    "    Euler_characteristic = sum(num_simplices[::2]) - sum(num_simplices[1::2])\n",
    "    if verbose: print('The simplicial complex has Euler characteristic equal to '+repr(Euler_characteristic)+'.')\n",
    "    return Euler_characteristic"
   ]
  },
  {
   "cell_type": "markdown",
   "metadata": {},
   "source": [
    "## Triangulation of the circle"
   ]
  },
  {
   "cell_type": "markdown",
   "metadata": {},
   "source": [
    "We start by considering a simplicial complex $S$ that is a triangulation of the circle.\n",
    "It is given by:\n",
    "- three vertices: $0$,$1$ and $2$,\n",
    "- three edges: $[0,1]$, $[1,2]$ and $[2,0]$.\n"
   ]
  },
  {
   "cell_type": "code",
   "execution_count": 3,
   "metadata": {},
   "outputs": [
    {
     "name": "stdout",
     "output_type": "stream",
     "text": [
      "<gudhi.simplex_tree.SimplexTree object at 0x7fa8741efcf0>\n"
     ]
    }
   ],
   "source": [
    "# We build a SimplexTree structure on gudhi\n",
    "\n",
    "simpcomplex = gudhi.SimplexTree()\n",
    "print(simpcomplex)"
   ]
  },
  {
   "cell_type": "code",
   "execution_count": 4,
   "metadata": {},
   "outputs": [
    {
     "data": {
      "text/plain": [
       "True"
      ]
     },
     "execution_count": 4,
     "metadata": {},
     "output_type": "execute_result"
    }
   ],
   "source": [
    "# We add the vertices\n",
    "\n",
    "simpcomplex.insert([0])\n",
    "simpcomplex.insert([1])\n",
    "simpcomplex.insert([2])"
   ]
  },
  {
   "cell_type": "code",
   "execution_count": 5,
   "metadata": {},
   "outputs": [
    {
     "name": "stdout",
     "output_type": "stream",
     "text": [
      "The simplicial complex contains the following simplices: \n",
      "Dimension 0: [0], [1], [2]\n"
     ]
    }
   ],
   "source": [
    "# Let us verify that the vertices are correctly added\n",
    "\n",
    "PrintSimplices(simpcomplex)"
   ]
  },
  {
   "cell_type": "code",
   "execution_count": 6,
   "metadata": {},
   "outputs": [
    {
     "data": {
      "text/plain": [
       "True"
      ]
     },
     "execution_count": 6,
     "metadata": {},
     "output_type": "execute_result"
    }
   ],
   "source": [
    "# We add the edges\n",
    "\n",
    "simpcomplex.insert([0,1])\n",
    "simpcomplex.insert([1,2])\n",
    "simpcomplex.insert([2,0])"
   ]
  },
  {
   "cell_type": "code",
   "execution_count": 7,
   "metadata": {},
   "outputs": [
    {
     "name": "stdout",
     "output_type": "stream",
     "text": [
      "The simplicial complex contains the following simplices: \n",
      "Dimension 0: [0], [1], [2]\n",
      "Dimension 1: [0, 1], [0, 2], [1, 2]\n"
     ]
    }
   ],
   "source": [
    "# Let us verify that the edges are correctly added\n",
    "\n",
    "PrintSimplices(simpcomplex)"
   ]
  },
  {
   "cell_type": "code",
   "execution_count": 8,
   "metadata": {},
   "outputs": [
    {
     "data": {
      "image/png": "[encoded data removed]",
      "text/plain": [
       "<Figure size 432x288 with 1 Axes>"
      ]
     },
     "metadata": {},
     "output_type": "display_data"
    }
   ],
   "source": [
    "# The following function allows to draw the simplicial complex (uses the library networkx)\n",
    "\n",
    "DrawSimplicialComplex(simpcomplex)"
   ]
  },
  {
   "cell_type": "code",
   "execution_count": 9,
   "metadata": {},
   "outputs": [
    {
     "name": "stdout",
     "output_type": "stream",
     "text": [
      "The simplicial complex contains the following simplices: \n",
      "Dimension 0: [0], [1], [2]\n",
      "Dimension 1: [0, 1], [0, 2], [1, 2]\n"
     ]
    }
   ],
   "source": [
    "# In Gudhi, if a simplex is added to the complex, then all its faces are\n",
    "# Hence we can use the simpler code:\n",
    "\n",
    "simpcomplex2 = gudhi.SimplexTree()\n",
    "\n",
    "simpcomplex2.insert([0,1])\n",
    "simpcomplex2.insert([1,2])\n",
    "simpcomplex2.insert([2,0])\n",
    "\n",
    "PrintSimplices(simpcomplex2)"
   ]
  },
  {
   "cell_type": "code",
   "execution_count": 10,
   "metadata": {},
   "outputs": [
    {
     "name": "stdout",
     "output_type": "stream",
     "text": [
      "The simplicial complex contains the following simplices: \n",
      "Dimension 0: [0], [1], [2]\n",
      "Dimension 1: [0, 1], [0, 2], [1, 2]\n"
     ]
    }
   ],
   "source": [
    "# We can do it even faster, by using the remove_maximal_simplex function:\n",
    "\n",
    "simpcomplex3 = gudhi.SimplexTree()\n",
    "\n",
    "simpcomplex3.insert([0,1,2])\n",
    "simpcomplex3.remove_maximal_simplex([0,1,2])\n",
    "\n",
    "PrintSimplices(simpcomplex3)"
   ]
  },
  {
   "cell_type": "code",
   "execution_count": 11,
   "metadata": {},
   "outputs": [],
   "source": [
    "# be careful\n",
    "\n",
    "#simpcomplex3.remove_maximal_simplex([0])"
   ]
  },
  {
   "cell_type": "markdown",
   "metadata": {},
   "source": [
    "## Computing topological invariants"
   ]
  },
  {
   "cell_type": "code",
   "execution_count": 12,
   "metadata": {},
   "outputs": [
    {
     "data": {
      "image/png": "[encoded data removed]",
      "text/plain": [
       "<Figure size 432x288 with 1 Axes>"
      ]
     },
     "metadata": {},
     "output_type": "display_data"
    }
   ],
   "source": [
    "simpcomplexdim2 = gudhi.SimplexTree()\n",
    "\n",
    "simpcomplexdim2.insert([0,1,2])\n",
    "\n",
    "DrawSimplicialComplex(simpcomplexdim2)"
   ]
  },
  {
   "cell_type": "code",
   "execution_count": 13,
   "metadata": {},
   "outputs": [
    {
     "data": {
      "text/plain": [
       "1"
      ]
     },
     "execution_count": 13,
     "metadata": {},
     "output_type": "execute_result"
    }
   ],
   "source": [
    "# The following function returns the number of connected components of the complex.\n",
    "# Use verbose = 'True' or verbose = 'False' to print the output sentence.\n",
    "\n",
    "NumberOfConnectedComponents(simpcomplex, verbose = False)"
   ]
  },
  {
   "cell_type": "code",
   "execution_count": 14,
   "metadata": {},
   "outputs": [
    {
     "name": "stdout",
     "output_type": "stream",
     "text": [
      "The simplicial complex has Euler characteristic equal to 0.\n"
     ]
    },
    {
     "data": {
      "text/plain": [
       "0"
      ]
     },
     "execution_count": 14,
     "metadata": {},
     "output_type": "execute_result"
    }
   ],
   "source": [
    "# The following function returns the Euler characteristic of the complex.\n",
    "# Use verbose = 'True' or verbose = 'False' to print the output sentence.\n",
    "\n",
    "EulerCharacteristic(simpcomplex)"
   ]
  },
  {
   "cell_type": "markdown",
   "metadata": {},
   "source": [
    "# Exercise 22"
   ]
  },
  {
   "cell_type": "markdown",
   "metadata": {},
   "source": [
    "Build triangulations of the alphabet letters, and compute their Euler characteristic.\n",
    "\n",
    "Given two letters that are homotopy equivalent, is it true thar their Euler characteristic are equal?\n",
    "Given two letters that are not homotopy equivalent, is it true thar their Euler characteristic are different?"
   ]
  },
  {
   "cell_type": "code",
   "execution_count": 15,
   "metadata": {},
   "outputs": [
    {
     "name": "stdout",
     "output_type": "stream",
     "text": [
      "The simplicial complex has Euler characteristic equal to 0.\n"
     ]
    },
    {
     "data": {
      "text/plain": [
       "0"
      ]
     },
     "execution_count": 15,
     "metadata": {},
     "output_type": "execute_result"
    },
    {
     "data": {
      "image/png": "[encoded data removed]",
      "text/plain": [
       "<Figure size 432x288 with 1 Axes>"
      ]
     },
     "metadata": {},
     "output_type": "display_data"
    }
   ],
   "source": [
    "# We build a triangulation of the letter A\n",
    "\n",
    "simpcomplex = gudhi.SimplexTree()\n",
    "\n",
    "simpcomplex.insert([0,1])\n",
    "simpcomplex.insert([1,2])\n",
    "simpcomplex.insert([2,0])\n",
    "simpcomplex.insert([3,0])\n",
    "simpcomplex.insert([4,1])\n",
    "\n",
    "DrawSimplicialComplex(simpcomplex)\n",
    "EulerCharacteristic(simpcomplex)"
   ]
  },
  {
   "cell_type": "markdown",
   "metadata": {},
   "source": [
    "# Exercise 23"
   ]
  },
  {
   "cell_type": "markdown",
   "metadata": {},
   "source": [
    "For every $n$, triangulate the bouquet of $n$ circles. Compute their Euler characteristic. "
   ]
  },
  {
   "cell_type": "markdown",
   "metadata": {},
   "source": [
    "# Exercise 24"
   ]
  },
  {
   "cell_type": "markdown",
   "metadata": {},
   "source": [
    "Implement the triangulation of the torus given in the notes.\n",
    "Compute its Euler characteristic."
   ]
  },
  {
   "cell_type": "markdown",
   "metadata": {},
   "source": [
    "# Exercise 25"
   ]
  },
  {
   "cell_type": "markdown",
   "metadata": {},
   "source": [
    "Consider the following dataset of $30$ points $x_0, ..., x_{29}$ in $\\mathbb{R}^2$:\n",
    " ``` \n",
    " {0: [0.29409772548731694, 0.6646626625013836],\n",
    " 1: [0.01625840776679577, 0.1676405753593595],\n",
    " 2: [0.15988905150272759, 0.6411323760808338],\n",
    " 3: [0.9073191075894482, -0.16417982219713312],\n",
    " 4: [-0.18661467838673884, 0.31618948583046413],\n",
    " 5: [-0.3664040542098381, 0.9098590694955988],\n",
    " 6: [-0.43753448716144905, -0.8820102274699417],\n",
    " 7: [0.4096730199915961, -0.23801426675264126],\n",
    " 8: [0.5903822103474676, -0.7285102954232894],\n",
    " 9: [0.9133851839417766, -0.6606557328320093],\n",
    " 10: [-0.15516122940597588, 0.7565411235103017],\n",
    " 11: [-0.38626186295039866, -0.3662321656058476],\n",
    " 12: [0.005209710070218199, 0.27655964872153116],\n",
    " 13: [0.670078068894711, -0.00932202688834849],\n",
    " 14: [-0.011268465716772091, 0.24340880308017376],\n",
    " 15: [-0.6441978411451603, -0.9672635759413206],\n",
    " 16: [-0.2841794022401025, -0.6734801188906114],\n",
    " 17: [-0.15473260248990717, -0.1365357396855129],\n",
    " 18: [0.7177096105982121, 0.9378197891592468],\n",
    " 19: [-0.4677068504994166, 0.1533930130294956],\n",
    " 20: [-0.32379909116817096, 0.9694800649768063],\n",
    " 21: [-0.2886940472879451, -0.039544695812395725],\n",
    " 22: [-0.5900701743351606, 0.8350804500575086],\n",
    " 23: [0.14931959728335853, 0.869106793774487],\n",
    " 24: [-0.14500672678238824, -0.3170082291070364],\n",
    " 25: [0.07324547392476122, 0.6653572287065117],\n",
    " 26: [-0.662990048258566, 0.1908198608241125],\n",
    " 27: [-0.25641262456436276, -0.9844196180941553],\n",
    " 28: [-0.5105685407819842, -0.4236604017060557],\n",
    " 29: [0.6792549581008038, -0.026215820387260003]}\n",
    " ``` \n",
    " \n",
    " Write a function that takes as an input a parameter $r\\geq 0$, and returns the simplicial complex $\\mathcal{G}(r)$ defined as follows:\n",
    "- the vertices of $\\mathcal{G}(r)$ are the points $x_0, ..., x_{29}$,\n",
    "- for all $i, j \\in [0,29]$ with $i\\neq j$, the edge $[i,j]$ belongs to $\\mathcal{G}(r)$ if and only if $||x_i-x_j||\\leq r$.\n",
    "\n",
    "Compute the number of connected components of $\\mathcal{G}(r)$ for several values of $r$. What do you observe?"
   ]
  },
  {
   "cell_type": "markdown",
   "metadata": {},
   "source": [
    "# Exercise 26"
   ]
  },
  {
   "cell_type": "markdown",
   "metadata": {},
   "source": [
    "A *Erdős–Rényi random graph $\\mathcal{G}(n,p)$* is a simplicial complex obtained as follows:\n",
    "- add $n$ vertices $1,...,n$,\n",
    "- add each edge $[a,b]$, where $a,b \\in [1,n]$, to the complex with probability $p$.\n",
    "\n",
    "Builds a function that, given $n$ and $p$, outputs a simplicial complex $\\mathcal{G}(n,p)$.\n",
    "Observe the influence of $p$ on the number of connected components of $\\mathcal{G}(10,p)$ and $\\mathcal{G}(100,p)$.\n",
    "\n",
    "*Hint:* If $V$ is a list, `itertools.combinations(V,2)` can be used to generate all the non-ordered pairs `[a,b]` in `V` (package `itertools`).\n",
    "The command `random.random()` can be used to generate a random number between 0 and 1, and `random.random()<p` is  `True` with probability  `p` (package `random`)."
   ]
  },
  {
   "cell_type": "code",
   "execution_count": 16,
   "metadata": {},
   "outputs": [],
   "source": [
    "import itertools\n",
    "import random"
   ]
  }
 ],
 "metadata": {
  "kernelspec": {
   "display_name": "Python 3",
   "language": "python",
   "name": "python3"
  },
  "language_info": {
   "codemirror_mode": {
    "name": "ipython",
    "version": 3
   },
   "file_extension": ".py",
   "mimetype": "text/x-python",
   "name": "python",
   "nbconvert_exporter": "python",
   "pygments_lexer": "ipython3",
   "version": "3.7.8"
  }
 },
 "nbformat": 4,
 "nbformat_minor": 2
}
